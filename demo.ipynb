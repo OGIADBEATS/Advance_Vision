{
 "cells": [
  {
   "cell_type": "code",
   "execution_count": null,
   "id": "774a43df",
   "metadata": {},
   "outputs": [
    {
     "name": "stderr",
     "output_type": "stream",
     "text": [
      "2024-12-15 00:05:42.252 python[44974:456908] WARNING: AVCaptureDeviceTypeExternal is deprecated for Continuity Cameras. Please use AVCaptureDeviceTypeContinuityCamera and add NSCameraUseContinuityCameraDeviceType to your Info.plist.\n"
     ]
    }
   ],
   "source": [
    "import cv2\n",
    "import face_recognition\n",
    "import numpy as np\n",
    "import os\n",
    "\n",
    "# 登録された顔データと名前\n",
    "registered_encodings = []\n",
    "registered_names = []\n",
    "\n",
    "# 顔画像が保存されているディレクトリ\n",
    "faces_dir = \"/Users/daigo/Documents/program/test/Advance_Vision/known_faces/\"\n",
    "\n",
    "# ディレクトリ内のすべての画像ファイルを処理\n",
    "for filename in os.listdir(faces_dir):\n",
    "    if filename.endswith(\".jpg\") or filename.endswith(\".png\"):\n",
    "        # ファイルパスを作成\n",
    "        image_path = os.path.join(faces_dir, filename)\n",
    "\n",
    "        # ファイル名から名前を取得\n",
    "        name = os.path.splitext(filename)[0]\n",
    "        registered_names.append(name)\n",
    "\n",
    "        # 顔画像をエンコード\n",
    "        image = face_recognition.load_image_file(image_path)\n",
    "        encoding = face_recognition.face_encodings(image)[0]\n",
    "        registered_encodings.append(encoding)\n",
    "\n",
    "# カメラを初期化\n",
    "cap = cv2.VideoCapture(0)\n",
    "\n",
    "# 解像度を設定\n",
    "cap.set(cv2.CAP_PROP_FRAME_WIDTH, 640)\n",
    "cap.set(cv2.CAP_PROP_FRAME_HEIGHT, 480)\n",
    "\n",
    "if not cap.isOpened():\n",
    "    print(\"カメラが見つからないか、開けません。\")\n",
    "    exit()\n",
    "\n",
    "while True:\n",
    "    ret, frame = cap.read()\n",
    "    if not ret:\n",
    "        print(\"フレームの取得に失敗しました。\")\n",
    "        break\n",
    "\n",
    "    # フレームをRGBに変換\n",
    "    rgb_frame = cv2.cvtColor(frame, cv2.COLOR_BGR2RGB)\n",
    "\n",
    "    # 顔の場所を検出\n",
    "    face_locations = face_recognition.face_locations(rgb_frame)\n",
    "    face_encodings = face_recognition.face_encodings(rgb_frame, face_locations)\n",
    "\n",
    "    for (top, right, bottom, left), face_encoding in zip(face_locations, face_encodings):\n",
    "        # 顔を登録データと比較\n",
    "        matches = face_recognition.compare_faces(registered_encodings, face_encoding)\n",
    "        name = \"Unknown\"\n",
    "\n",
    "        # 最も近い登録顔を探す\n",
    "        face_distances = face_recognition.face_distance(registered_encodings, face_encoding)\n",
    "        best_match_index = np.argmin(face_distances)\n",
    "        if matches[best_match_index]:\n",
    "            name = registered_names[best_match_index]\n",
    "\n",
    "        # 矩形と名前を描画\n",
    "        cv2.rectangle(frame, (left, top), (right, bottom), (0, 255, 0), 2)\n",
    "        cv2.putText(frame, name, (left, top - 10), cv2.FONT_HERSHEY_SIMPLEX, 0.9, (255, 255, 255), 2)\n",
    "\n",
    "    # フレームを表示\n",
    "    cv2.imshow(\"Camera\", frame)\n",
    "\n",
    "    # 'q'を押すと終了\n",
    "    if cv2.waitKey(1) & 0xFF == ord('q'):\n",
    "        break\n",
    "\n",
    "# カメラとウィンドウを解放\n",
    "cap.release()\n",
    "cv2.destroyAllWindows()\n"
   ]
  }
 ],
 "metadata": {
  "kernelspec": {
   "display_name": "Python (base)",
   "language": "python",
   "name": "my_env"
  },
  "language_info": {
   "codemirror_mode": {
    "name": "ipython",
    "version": 3
   },
   "file_extension": ".py",
   "mimetype": "text/x-python",
   "name": "python",
   "nbconvert_exporter": "python",
   "pygments_lexer": "ipython3",
   "version": "3.8.12"
  }
 },
 "nbformat": 4,
 "nbformat_minor": 5
}
